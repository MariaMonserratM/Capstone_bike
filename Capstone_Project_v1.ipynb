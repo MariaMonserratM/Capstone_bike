{
 "cells": [
  {
   "cell_type": "code",
   "execution_count": 1,
   "id": "2e819ee7",
   "metadata": {},
   "outputs": [
    {
     "name": "stderr",
     "output_type": "stream",
     "text": [
      "/Users/nuria/anaconda3/lib/python3.11/site-packages/dask/dataframe/__init__.py:31: FutureWarning: \n",
      "Dask dataframe query planning is disabled because dask-expr is not installed.\n",
      "\n",
      "You can install it with `pip install dask[dataframe]` or `conda install dask`.\n",
      "This will raise in a future version.\n",
      "\n",
      "  warnings.warn(msg, FutureWarning)\n"
     ]
    },
    {
     "data": {
      "text/html": [
       "<style>.container { width:90% !important; }</style>"
      ],
      "text/plain": [
       "<IPython.core.display.HTML object>"
      ]
     },
     "metadata": {},
     "output_type": "display_data"
    }
   ],
   "source": [
    "import os\n",
    "import re\n",
    "import ast\n",
    "import typing\n",
    "import requests\n",
    "import icalendar\n",
    "import dask.dataframe as dd\n",
    "import glob\n",
    "import numpy as np\n",
    "import pandas as pd\n",
    "import seaborn as sns\n",
    "from tqdm import tqdm\n",
    "import matplotlib as mpl\n",
    "from bs4 import BeautifulSoup\n",
    "import matplotlib.pyplot as plt\n",
    "from datetime import date, datetime\n",
    "from icalendar import Calendar, Event, vCalAddress, vText\n",
    "\n",
    "import xgboost as xgb\n",
    "from xgboost import plot_importance\n",
    "\n",
    "from sklearn.cluster import KMeans\n",
    "from sklearn.impute import SimpleImputer\n",
    "from sklearn.metrics import mean_squared_error\n",
    "from sklearn.feature_selection import SelectFromModel\n",
    "from sklearn.preprocessing import MinMaxScaler, LabelEncoder, OneHotEncoder\n",
    "\n",
    "%matplotlib inline\n",
    "\n",
    "np.random.seed(31415)\n",
    "\n",
    "sns.set(rc={'figure.figsize':(15,3)})\n",
    "pd.set_option('display.max_columns', None)\n",
    "\n",
    "import warnings\n",
    "warnings.filterwarnings('ignore')\n",
    "\n",
    "from IPython.display import display, HTML\n",
    "display(HTML(\"<style>.container { width:90% !important; }</style>\"))"
   ]
  },
  {
   "cell_type": "markdown",
   "id": "8fd9f6f2",
   "metadata": {},
   "source": [
    "# Loading Data"
   ]
  },
  {
   "cell_type": "code",
   "execution_count": 2,
   "id": "d1fbd696",
   "metadata": {},
   "outputs": [],
   "source": [
    "#i2m = list(zip(range(1,13), ['Gener','Febrer','Marc','Abril','Maig','Juny','Juliol','Agost','Setembre','Octubre','Novembre','Desembre']))\n",
    "#for year in [2023, 2022, 2021, 2020]:\n",
    "    #for month, month_name in i2m:        \n",
    "        #os.system(f\"wget 'https://opendata-ajuntament.barcelona.cat/resources/bcn/BicingBCN/{year}_{month:02d}_{month_name}_BicingNou_ESTACIONS.7z'\")\n",
    "        #os.system(f\"7z x '{year}_{month:02d}_{month_name}_BicingNou_ESTACIONS.7z'\")\n",
    "        #os.system(f\"rm '{year}_{month:02d}_{month_name}_BicingNou_ESTACIONS.7z'\")"
   ]
  },
  {
   "cell_type": "code",
   "execution_count": 3,
   "id": "66d0c3c2",
   "metadata": {},
   "outputs": [],
   "source": [
    "df_2020_03 = pd.read_csv('./data/2020_03_Marc_BicingNou_ESTACIONS.csv')"
   ]
  },
  {
   "cell_type": "code",
   "execution_count": 4,
   "id": "ea131272",
   "metadata": {},
   "outputs": [
    {
     "data": {
      "text/html": [
       "<div>\n",
       "<style scoped>\n",
       "    .dataframe tbody tr th:only-of-type {\n",
       "        vertical-align: middle;\n",
       "    }\n",
       "\n",
       "    .dataframe tbody tr th {\n",
       "        vertical-align: top;\n",
       "    }\n",
       "\n",
       "    .dataframe thead th {\n",
       "        text-align: right;\n",
       "    }\n",
       "</style>\n",
       "<table border=\"1\" class=\"dataframe\">\n",
       "  <thead>\n",
       "    <tr style=\"text-align: right;\">\n",
       "      <th></th>\n",
       "      <th>station_id</th>\n",
       "      <th>num_bikes_available</th>\n",
       "      <th>num_bikes_available_types.mechanical</th>\n",
       "      <th>num_bikes_available_types.ebike</th>\n",
       "      <th>num_docks_available</th>\n",
       "      <th>is_installed</th>\n",
       "      <th>is_renting</th>\n",
       "      <th>is_returning</th>\n",
       "      <th>last_reported</th>\n",
       "      <th>is_charging_station</th>\n",
       "      <th>status</th>\n",
       "      <th>last_updated</th>\n",
       "      <th>ttl</th>\n",
       "    </tr>\n",
       "  </thead>\n",
       "  <tbody>\n",
       "    <tr>\n",
       "      <th>0</th>\n",
       "      <td>1</td>\n",
       "      <td>24</td>\n",
       "      <td>23</td>\n",
       "      <td>1</td>\n",
       "      <td>16</td>\n",
       "      <td>1</td>\n",
       "      <td>1</td>\n",
       "      <td>1</td>\n",
       "      <td>1.583017e+09</td>\n",
       "      <td>True</td>\n",
       "      <td>IN_SERVICE</td>\n",
       "      <td>1583017224</td>\n",
       "      <td>25</td>\n",
       "    </tr>\n",
       "    <tr>\n",
       "      <th>1</th>\n",
       "      <td>2</td>\n",
       "      <td>5</td>\n",
       "      <td>4</td>\n",
       "      <td>1</td>\n",
       "      <td>19</td>\n",
       "      <td>1</td>\n",
       "      <td>1</td>\n",
       "      <td>1</td>\n",
       "      <td>1.583017e+09</td>\n",
       "      <td>True</td>\n",
       "      <td>IN_SERVICE</td>\n",
       "      <td>1583017224</td>\n",
       "      <td>25</td>\n",
       "    </tr>\n",
       "    <tr>\n",
       "      <th>2</th>\n",
       "      <td>3</td>\n",
       "      <td>6</td>\n",
       "      <td>6</td>\n",
       "      <td>0</td>\n",
       "      <td>18</td>\n",
       "      <td>1</td>\n",
       "      <td>1</td>\n",
       "      <td>1</td>\n",
       "      <td>1.583017e+09</td>\n",
       "      <td>True</td>\n",
       "      <td>IN_SERVICE</td>\n",
       "      <td>1583017224</td>\n",
       "      <td>25</td>\n",
       "    </tr>\n",
       "    <tr>\n",
       "      <th>3</th>\n",
       "      <td>4</td>\n",
       "      <td>4</td>\n",
       "      <td>3</td>\n",
       "      <td>1</td>\n",
       "      <td>15</td>\n",
       "      <td>1</td>\n",
       "      <td>1</td>\n",
       "      <td>1</td>\n",
       "      <td>1.583017e+09</td>\n",
       "      <td>True</td>\n",
       "      <td>IN_SERVICE</td>\n",
       "      <td>1583017224</td>\n",
       "      <td>25</td>\n",
       "    </tr>\n",
       "    <tr>\n",
       "      <th>4</th>\n",
       "      <td>5</td>\n",
       "      <td>14</td>\n",
       "      <td>14</td>\n",
       "      <td>0</td>\n",
       "      <td>25</td>\n",
       "      <td>1</td>\n",
       "      <td>1</td>\n",
       "      <td>1</td>\n",
       "      <td>1.583017e+09</td>\n",
       "      <td>True</td>\n",
       "      <td>IN_SERVICE</td>\n",
       "      <td>1583017224</td>\n",
       "      <td>25</td>\n",
       "    </tr>\n",
       "  </tbody>\n",
       "</table>\n",
       "</div>"
      ],
      "text/plain": [
       "   station_id  num_bikes_available  num_bikes_available_types.mechanical  \\\n",
       "0           1                   24                                    23   \n",
       "1           2                    5                                     4   \n",
       "2           3                    6                                     6   \n",
       "3           4                    4                                     3   \n",
       "4           5                   14                                    14   \n",
       "\n",
       "   num_bikes_available_types.ebike  num_docks_available  is_installed  \\\n",
       "0                                1                   16             1   \n",
       "1                                1                   19             1   \n",
       "2                                0                   18             1   \n",
       "3                                1                   15             1   \n",
       "4                                0                   25             1   \n",
       "\n",
       "   is_renting  is_returning  last_reported  is_charging_station      status  \\\n",
       "0           1             1   1.583017e+09                 True  IN_SERVICE   \n",
       "1           1             1   1.583017e+09                 True  IN_SERVICE   \n",
       "2           1             1   1.583017e+09                 True  IN_SERVICE   \n",
       "3           1             1   1.583017e+09                 True  IN_SERVICE   \n",
       "4           1             1   1.583017e+09                 True  IN_SERVICE   \n",
       "\n",
       "   last_updated  ttl  \n",
       "0    1583017224   25  \n",
       "1    1583017224   25  \n",
       "2    1583017224   25  \n",
       "3    1583017224   25  \n",
       "4    1583017224   25  "
      ]
     },
     "execution_count": 4,
     "metadata": {},
     "output_type": "execute_result"
    }
   ],
   "source": [
    "df_2020_03.head()"
   ]
  },
  {
   "cell_type": "code",
   "execution_count": 5,
   "id": "a5fc7449",
   "metadata": {},
   "outputs": [
    {
     "data": {
      "text/plain": [
       "(2408419, 13)"
      ]
     },
     "execution_count": 5,
     "metadata": {},
     "output_type": "execute_result"
    }
   ],
   "source": [
    "df_2020_03.shape"
   ]
  },
  {
   "cell_type": "code",
   "execution_count": 6,
   "id": "eef18d05",
   "metadata": {},
   "outputs": [
    {
     "name": "stdout",
     "output_type": "stream",
     "text": [
      "<class 'pandas.core.frame.DataFrame'>\n",
      "RangeIndex: 2408419 entries, 0 to 2408418\n",
      "Data columns (total 13 columns):\n",
      " #   Column                                Dtype  \n",
      "---  ------                                -----  \n",
      " 0   station_id                            int64  \n",
      " 1   num_bikes_available                   int64  \n",
      " 2   num_bikes_available_types.mechanical  int64  \n",
      " 3   num_bikes_available_types.ebike       int64  \n",
      " 4   num_docks_available                   int64  \n",
      " 5   is_installed                          int64  \n",
      " 6   is_renting                            int64  \n",
      " 7   is_returning                          int64  \n",
      " 8   last_reported                         float64\n",
      " 9   is_charging_station                   bool   \n",
      " 10  status                                object \n",
      " 11  last_updated                          int64  \n",
      " 12  ttl                                   int64  \n",
      "dtypes: bool(1), float64(1), int64(10), object(1)\n",
      "memory usage: 222.8+ MB\n"
     ]
    }
   ],
   "source": [
    "df_2020_03.info()"
   ]
  },
  {
   "cell_type": "code",
   "execution_count": 7,
   "id": "fd1da29d",
   "metadata": {},
   "outputs": [],
   "source": [
    "missing_val = df_2020_03.isna().sum()"
   ]
  },
  {
   "cell_type": "code",
   "execution_count": 8,
   "id": "fb5141ad",
   "metadata": {},
   "outputs": [
    {
     "name": "stdout",
     "output_type": "stream",
     "text": [
      "station_id                              0\n",
      "num_bikes_available                     0\n",
      "num_bikes_available_types.mechanical    0\n",
      "num_bikes_available_types.ebike         0\n",
      "num_docks_available                     0\n",
      "is_installed                            0\n",
      "is_renting                              0\n",
      "is_returning                            0\n",
      "last_reported                           0\n",
      "is_charging_station                     0\n",
      "status                                  0\n",
      "last_updated                            0\n",
      "ttl                                     0\n",
      "dtype: int64\n"
     ]
    }
   ],
   "source": [
    "print(missing_val)"
   ]
  },
  {
   "cell_type": "code",
   "execution_count": 9,
   "id": "dcc72723",
   "metadata": {},
   "outputs": [],
   "source": [
    "# Specify the file pattern matching the CSV files\n",
    "file_pattern = './data/202*_*_*_BicingNou_ESTACIONS.csv'\n",
    "\n",
    "# Read all CSV files into a Dask DataFrame with assume_missing=True\n",
    "dfs = [\n",
    "    dd.read_csv(\n",
    "        file, \n",
    "        dtype={\n",
    "            'status': 'object', \n",
    "            'station_id': 'float64', \n",
    "            'num_bikes_available': 'float64',\n",
    "            'num_bikes_available_types.mechanical': 'float64',\n",
    "            'num_bikes_available_types.ebike': 'float64',\n",
    "            'num_docks_available': 'float64', \n",
    "            'is_installed': 'float64',\n",
    "            'is_renting': 'float64', \n",
    "            'is_returning': 'float64', \n",
    "            'last_reported': 'float64',\n",
    "            'is_charging_station': 'object', # Change to object to handle NA values\n",
    "            'last_updated': 'float64',\n",
    "            'ttl': 'float64'\n",
    "        },\n",
    "        assume_missing=True\n",
    "    ) \n",
    "    for file in sorted(glob.glob(file_pattern))\n",
    "]\n",
    "\n",
    "# Concatenate all DataFrames into a single DataFrame\n",
    "df_concatenated = dd.concat(dfs, axis=0)\n",
    "\n",
    "# Reset the index to ensure it is unique\n",
    "df_concatenated = df_concatenated.reset_index(drop=True)\n",
    "\n",
    "# Persist the concatenated DataFrame for faster access\n",
    "df_concatenated = df_concatenated.persist()"
   ]
  },
  {
   "cell_type": "code",
   "execution_count": 10,
   "id": "18f6538d",
   "metadata": {},
   "outputs": [
    {
     "name": "stdout",
     "output_type": "stream",
     "text": [
      "Number of rows: 200973778\n",
      "Number of columns: 15\n"
     ]
    }
   ],
   "source": [
    "# Compute the shape of the concatenated DataFrame\n",
    "shape = df_concatenated.shape\n",
    "num_rows = shape[0].compute()\n",
    "num_columns = shape[1]\n",
    "\n",
    "print(\"Number of rows:\", num_rows)\n",
    "print(\"Number of columns:\", num_columns)"
   ]
  },
  {
   "cell_type": "code",
   "execution_count": 11,
   "id": "3ba4eef7",
   "metadata": {},
   "outputs": [],
   "source": [
    "missing_values = df_concatenated.isna().sum().compute()"
   ]
  },
  {
   "cell_type": "code",
   "execution_count": 12,
   "id": "763fc043",
   "metadata": {},
   "outputs": [
    {
     "name": "stdout",
     "output_type": "stream",
     "text": [
      "Missing values per column:\n",
      "station_id                                   3765\n",
      "num_bikes_available                          3765\n",
      "num_bikes_available_types.mechanical         3765\n",
      "num_bikes_available_types.ebike              3765\n",
      "num_docks_available                          3765\n",
      "is_installed                                 3765\n",
      "is_renting                                   3765\n",
      "is_returning                                 3765\n",
      "last_reported                                3765\n",
      "is_charging_station                          3765\n",
      "status                                       3765\n",
      "last_updated                                 3765\n",
      "ttl                                          3765\n",
      "traffic                                 200138821\n",
      "V1                                      200973778\n",
      "dtype: int64\n"
     ]
    }
   ],
   "source": [
    "print(\"Missing values per column:\")\n",
    "print(missing_values)"
   ]
  },
  {
   "cell_type": "markdown",
   "id": "e5d989d8",
   "metadata": {},
   "source": [
    "Remove all those rows from our dataframe that do not contain records in any of the variables."
   ]
  },
  {
   "cell_type": "code",
   "execution_count": 13,
   "id": "e9940247",
   "metadata": {},
   "outputs": [
    {
     "name": "stdout",
     "output_type": "stream",
     "text": [
      "Number of rows: 200970013\n",
      "Number of columns: 15\n"
     ]
    }
   ],
   "source": [
    "# Drop rows where all values are missing\n",
    "df_cleaned = df_concatenated.dropna(how='all')\n",
    "\n",
    "# Reset the index to ensure it is unique\n",
    "df_cleaned = df_cleaned.reset_index(drop=True)\n",
    "\n",
    "# Persist the cleaned DataFrame for faster access\n",
    "df_cleaned = df_cleaned.persist()\n",
    "\n",
    "# Compute the shape of the cleaned DataFrame\n",
    "shape = df_cleaned.shape\n",
    "num_rows = shape[0].compute()\n",
    "num_columns = shape[1]\n",
    "\n",
    "print(\"Number of rows:\", num_rows)\n",
    "print(\"Number of columns:\", num_columns)"
   ]
  },
  {
   "cell_type": "code",
   "execution_count": 14,
   "id": "b75e58be",
   "metadata": {},
   "outputs": [
    {
     "name": "stdout",
     "output_type": "stream",
     "text": [
      "Missing values per column:\n",
      "station_id                                      0\n",
      "num_bikes_available                             0\n",
      "num_bikes_available_types.mechanical            0\n",
      "num_bikes_available_types.ebike                 0\n",
      "num_docks_available                             0\n",
      "is_installed                                    0\n",
      "is_renting                                      0\n",
      "is_returning                                    0\n",
      "last_reported                                   0\n",
      "is_charging_station                             0\n",
      "status                                          0\n",
      "last_updated                                    0\n",
      "ttl                                             0\n",
      "traffic                                 200135056\n",
      "V1                                      200970013\n",
      "dtype: int64\n"
     ]
    }
   ],
   "source": [
    "missing_values = df_cleaned.isna().sum().compute()\n",
    "print(\"Missing values per column:\")\n",
    "print(missing_values)"
   ]
  },
  {
   "cell_type": "code",
   "execution_count": null,
   "id": "534ed4c7",
   "metadata": {},
   "outputs": [],
   "source": []
  },
  {
   "cell_type": "code",
   "execution_count": null,
   "id": "31b9eb84",
   "metadata": {},
   "outputs": [],
   "source": []
  },
  {
   "cell_type": "code",
   "execution_count": null,
   "id": "eb67c54c",
   "metadata": {},
   "outputs": [],
   "source": []
  },
  {
   "cell_type": "code",
   "execution_count": 18,
   "id": "341e9015",
   "metadata": {},
   "outputs": [],
   "source": [
    "# Define the custom functions\n",
    "def get_datetime(milliseconds: int):\n",
    "    return datetime.fromtimestamp(milliseconds)\n",
    "\n",
    "def create_date_df(df: pd.DataFrame):\n",
    "    df['date'] = pd.to_datetime(df['last_reported'].apply(lambda x: get_datetime(x)))\n",
    "    df['month'] = df['date'].dt.month\n",
    "    df['year'] = df['date'].dt.year\n",
    "    df['hour'] = df['date'].dt.hour\n",
    "    df['day'] = df['date'].dt.day\n",
    "    return df"
   ]
  },
  {
   "cell_type": "code",
   "execution_count": 24,
   "id": "20b58949",
   "metadata": {},
   "outputs": [],
   "source": [
    "# Create a sample DataFrame to infer metadata\n",
    "sample_df = create_date_df(pd.DataFrame(columns=[\n",
    "    'station_id', 'num_bikes_available', 'num_bikes_available_types.mechanical',\n",
    "    'num_bikes_available_types.ebike', 'num_docks_available', 'is_installed', 'is_renting',\n",
    "    'is_returning', 'last_reported', 'is_charging_station', 'status', 'last_updated', 'ttl', 'traffic', 'V1'\n",
    "]))"
   ]
  },
  {
   "cell_type": "code",
   "execution_count": null,
   "id": "8a9cd5f2",
   "metadata": {},
   "outputs": [],
   "source": [
    "# Apply the create_date_df function to each partition\n",
    "df_transformed = df_cleaned.map_partitions(create_date_df, meta=sample_df)\n",
    "\n",
    "# Reset the index to ensure it is unique\n",
    "df_transformed = df_transformed.reset_index(drop=True)\n",
    "\n",
    "# Persist the transformed DataFrame for faster access\n",
    "df_transformed = df_transformed.persist()\n",
    "\n",
    "# Compute the shape of the transformed DataFrame\n",
    "shape = df_transformed.shape\n",
    "num_rows = shape[0].compute()\n",
    "num_columns = shape[1]\n",
    "\n",
    "print(\"Number of rows:\", num_rows)\n",
    "print(\"Number of columns:\", num_columns)"
   ]
  },
  {
   "cell_type": "code",
   "execution_count": null,
   "id": "d8d6a2ad",
   "metadata": {},
   "outputs": [],
   "source": []
  }
 ],
 "metadata": {
  "kernelspec": {
   "display_name": "Python 3 (ipykernel)",
   "language": "python",
   "name": "python3"
  },
  "language_info": {
   "codemirror_mode": {
    "name": "ipython",
    "version": 3
   },
   "file_extension": ".py",
   "mimetype": "text/x-python",
   "name": "python",
   "nbconvert_exporter": "python",
   "pygments_lexer": "ipython3",
   "version": "3.11.9"
  }
 },
 "nbformat": 4,
 "nbformat_minor": 5
}
