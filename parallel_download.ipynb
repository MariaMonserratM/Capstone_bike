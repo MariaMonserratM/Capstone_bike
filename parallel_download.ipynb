{
  "cells": [
    {
      "cell_type": "code",
      "execution_count": 1,
      "metadata": {
        "colab": {
          "base_uri": "https://localhost:8080/"
        },
        "id": "okvTvWkVu7-R",
        "outputId": "a6845489-6de5-4b94-80cb-d1befdac72b3"
      },
      "outputs": [
        {
          "name": "stdout",
          "output_type": "stream",
          "text": [
            "Requirement already satisfied: py7zr in /Users/demian.moschin/anaconda3/lib/python3.11/site-packages (0.21.0)\n",
            "Requirement already satisfied: texttable in /Users/demian.moschin/anaconda3/lib/python3.11/site-packages (from py7zr) (1.7.0)\n",
            "Requirement already satisfied: pycryptodomex>=3.16.0 in /Users/demian.moschin/anaconda3/lib/python3.11/site-packages (from py7zr) (3.20.0)\n",
            "Requirement already satisfied: pyzstd>=0.15.9 in /Users/demian.moschin/anaconda3/lib/python3.11/site-packages (from py7zr) (0.16.0)\n",
            "Requirement already satisfied: pyppmd<1.2.0,>=1.1.0 in /Users/demian.moschin/anaconda3/lib/python3.11/site-packages (from py7zr) (1.1.0)\n",
            "Requirement already satisfied: pybcj<1.1.0,>=1.0.0 in /Users/demian.moschin/anaconda3/lib/python3.11/site-packages (from py7zr) (1.0.2)\n",
            "Requirement already satisfied: multivolumefile>=0.2.3 in /Users/demian.moschin/anaconda3/lib/python3.11/site-packages (from py7zr) (0.2.3)\n",
            "Requirement already satisfied: inflate64<1.1.0,>=1.0.0 in /Users/demian.moschin/anaconda3/lib/python3.11/site-packages (from py7zr) (1.0.0)\n",
            "Requirement already satisfied: brotli>=1.1.0 in /Users/demian.moschin/anaconda3/lib/python3.11/site-packages (from py7zr) (1.1.0)\n",
            "Requirement already satisfied: psutil in /Users/demian.moschin/anaconda3/lib/python3.11/site-packages (from py7zr) (5.9.0)\n",
            "\n",
            "\u001b[1m[\u001b[0m\u001b[34;49mnotice\u001b[0m\u001b[1;39;49m]\u001b[0m\u001b[39;49m A new release of pip is available: \u001b[0m\u001b[31;49m23.3.2\u001b[0m\u001b[39;49m -> \u001b[0m\u001b[32;49m24.0\u001b[0m\n",
            "\u001b[1m[\u001b[0m\u001b[34;49mnotice\u001b[0m\u001b[1;39;49m]\u001b[0m\u001b[39;49m To update, run: \u001b[0m\u001b[32;49mpip install --upgrade pip\u001b[0m\n"
          ]
        }
      ],
      "source": [
        "!pip  install py7zr\n"
      ]
    },
    {
      "cell_type": "code",
      "execution_count": 2,
      "metadata": {
        "colab": {
          "base_uri": "https://localhost:8080/"
        },
        "id": "CWiOLqa3uwps",
        "outputId": "6e6657d8-7af4-4a63-9f98-be1c2cefc8b4"
      },
      "outputs": [
        {
          "name": "stdout",
          "output_type": "stream",
          "text": [
            "All downloads and extractions are complete.\n"
          ]
        }
      ],
      "source": [
        "import os\n",
        "import requests\n",
        "from concurrent.futures import ThreadPoolExecutor, as_completed\n",
        "import py7zr\n",
        "\n",
        "# Create a target directory if it doesn't exist\n",
        "target_directory = \"bicing_data\"\n",
        "os.makedirs(target_directory, exist_ok=True)\n",
        "\n",
        "i2m = list(zip(range(1, 13), ['Gener', 'Febrer', 'Marc', 'Abril', 'Maig',\n",
        "           'Juny', 'Juliol', 'Agost', 'Setembre', 'Octubre', 'Novembre', 'Desembre']))\n",
        "\n",
        "\n",
        "def download_and_extract(year, month, month_name):\n",
        "    url = f\"https://opendata-ajuntament.barcelona.cat/resources/bcn/BicingBCN/{year}_{month:02d}_{month_name}_BicingNou_ESTACIONS.7z\"\n",
        "    local_filename = f\"{year}_{month:02d}_{month_name}_BicingNou_ESTACIONS.7z\"\n",
        "    try:\n",
        "        # Download the file\n",
        "        response = requests.get(url, stream=True)\n",
        "        response.raise_for_status()  # Check for request errors\n",
        "        with open(local_filename, 'wb') as f:\n",
        "            for chunk in response.iter_content(chunk_size=8192):\n",
        "                f.write(chunk)\n",
        "\n",
        "        # Extract the file to the target directory\n",
        "        with py7zr.SevenZipFile(local_filename, mode='r') as archive:\n",
        "            archive.extractall(path=target_directory)\n",
        "\n",
        "        # Remove the downloaded .7z file\n",
        "        os.remove(local_filename)\n",
        "    except Exception as e:\n",
        "        print(f\"Failed to download or extract {local_filename}: {e}\")\n",
        "\n",
        "\n",
        "\n",
        "# Use ThreadPoolExecutor for parallel downloading\n",
        "with ThreadPoolExecutor(max_workers=4) as executor:\n",
        "    futures = [executor.submit(download_and_extract, year, month, month_name)\n",
        "               for year in [2023, 2022, 2021, 2020]\n",
        "               for month, month_name in i2m]\n",
        "\n",
        "    for future in as_completed(futures):\n",
        "        if future.exception() is not None:\n",
        "            print(f\"Generated an exception: {future.exception()}\")\n",
        "\n",
        "print(\"All downloads and extractions are complete.\")"
      ]
    },
    {
      "cell_type": "markdown",
      "metadata": {},
      "source": []
    }
  ],
  "metadata": {
    "colab": {
      "provenance": []
    },
    "kernelspec": {
      "display_name": "Python 3",
      "name": "python3"
    },
    "language_info": {
      "codemirror_mode": {
        "name": "ipython",
        "version": 3
      },
      "file_extension": ".py",
      "mimetype": "text/x-python",
      "name": "python",
      "nbconvert_exporter": "python",
      "pygments_lexer": "ipython3",
      "version": "3.11.5"
    }
  },
  "nbformat": 4,
  "nbformat_minor": 0
}
