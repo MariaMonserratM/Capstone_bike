{
  "cells": [
    {
      "cell_type": "code",
      "execution_count": null,
      "metadata": {
        "colab": {
          "background_save": true
        },
        "id": "ka1LNxcl9XDi"
      },
      "outputs": [],
      "source": [
        "# import os\n",
        "\n",
        "# i2m = list(zip(range(1,13), ['Gener','Febrer','Marc','Abril','Maig','Juny','Juliol','Agost','Setembre','Octubre','Novembre','Desembre']))\n",
        "# for year in [2023, 2022, 2021, 2020]:\n",
        "#     for month, month_name in i2m:\n",
        "#         os.system(f\"wget 'https://opendata-ajuntament.barcelona.cat/resources/bcn/BicingBCN/{year}_{month:02d}_{month_name}_BicingNou_ESTACIONS.7z'\")\n",
        "#         os.system(f\"7z x '{year}_{month:02d}_{month_name}_BicingNou_ESTACIONS.7z'\")\n",
        "#         os.system(f\"rm '{year}_{month:02d}_{month_name}_BicingNou_ESTACIONS.7z'\")"
      ]
    },
    {
      "cell_type": "code",
      "execution_count": null,
      "metadata": {
        "colab": {
          "base_uri": "https://localhost:8080/"
        },
        "id": "okvTvWkVu7-R",
        "outputId": "a6845489-6de5-4b94-80cb-d1befdac72b3"
      },
      "outputs": [],
      "source": [
        "!pip  install py7zr\n"
      ]
    },
    {
      "cell_type": "code",
      "execution_count": null,
      "metadata": {
        "colab": {
          "base_uri": "https://localhost:8080/"
        },
        "id": "CWiOLqa3uwps",
        "outputId": "6e6657d8-7af4-4a63-9f98-be1c2cefc8b4"
      },
      "outputs": [],
      "source": [
        "import os\n",
        "import requests\n",
        "from concurrent.futures import ThreadPoolExecutor, as_completed\n",
        "import py7zr\n",
        "\n",
        "# Create a target directory if it doesn't exist\n",
        "target_directory = \"bicing_data\"\n",
        "os.makedirs(target_directory, exist_ok=True)\n",
        "\n",
        "i2m = list(zip(range(1, 13), ['Gener', 'Febrer', 'Marc', 'Abril', 'Maig',\n",
        "           'Juny', 'Juliol', 'Agost', 'Setembre', 'Octubre', 'Novembre', 'Desembre']))\n",
        "\n",
        "\n",
        "def download_and_extract(year, month, month_name):\n",
        "    url = f\"https://opendata-ajuntament.barcelona.cat/resources/bcn/BicingBCN/{year}_{month:02d}_{month_name}_BicingNou_ESTACIONS.7z\"\n",
        "    local_filename = f\"{year}_{month:02d}_{month_name}_BicingNou_ESTACIONS.7z\"\n",
        "    try:\n",
        "        # Download the file\n",
        "        response = requests.get(url, stream=True)\n",
        "        response.raise_for_status()  # Check for request errors\n",
        "        with open(local_filename, 'wb') as f:\n",
        "            for chunk in response.iter_content(chunk_size=8192):\n",
        "                f.write(chunk)\n",
        "\n",
        "        # Extract the file to the target directory\n",
        "        with py7zr.SevenZipFile(local_filename, mode='r') as archive:\n",
        "            archive.extractall(path=target_directory)\n",
        "\n",
        "        # Remove the downloaded .7z file\n",
        "        os.remove(local_filename)\n",
        "    except Exception as e:\n",
        "        print(f\"Failed to download or extract {local_filename}: {e}\")\n",
        "\n",
        "\n",
        "# Use ThreadPoolExecutor for parallel downloading\n",
        "with ThreadPoolExecutor(max_workers=4) as executor:\n",
        "    futures = [executor.submit(download_and_extract, year, month, month_name)\n",
        "               for year in [2023, 2022, 2021, 2020]\n",
        "               for month, month_name in i2m]\n",
        "\n",
        "    for future in as_completed(futures):\n",
        "        if future.exception() is not None:\n",
        "            print(f\"Generated an exception: {future.exception()}\")\n",
        "\n",
        "print(\"All downloads and extractions are complete.\")"
      ]
    },
    {
      "cell_type": "markdown",
      "metadata": {},
      "source": []
    }
  ],
  "metadata": {
    "colab": {
      "provenance": []
    },
    "kernelspec": {
      "display_name": "Python 3",
      "name": "python3"
    },
    "language_info": {
      "codemirror_mode": {
        "name": "ipython",
        "version": 3
      },
      "file_extension": ".py",
      "mimetype": "text/x-python",
      "name": "python",
      "nbconvert_exporter": "python",
      "pygments_lexer": "ipython3",
      "version": "3.11.5"
    }
  },
  "nbformat": 4,
  "nbformat_minor": 0
}
